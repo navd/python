{
 "cells": [
  {
   "cell_type": "code",
   "execution_count": 1,
   "metadata": {
    "collapsed": true
   },
   "outputs": [],
   "source": [
    "%matplotlib inline"
   ]
  },
  {
   "cell_type": "markdown",
   "metadata": {},
   "source": [
    "## Sheet 3: Probability and Classification\n",
    "\n",
    "# Q1. \n",
    "\n",
    "Open a Python session and \n",
    "\n",
    "Using NLTK or some other tool obtain the <a href=\"http://nltk.github.com/nltk_data/packages/corpora/swadesh.zip\">Swadesh corpora</a>."
   ]
  },
  {
   "cell_type": "code",
   "execution_count": 9,
   "metadata": {
    "collapsed": false
   },
   "outputs": [
    {
     "name": "stdout",
     "output_type": "stream",
     "text": [
      "['I', 'you (singular), thou', 'he', 'we', 'you (plural)', 'they', 'this', 'that', 'here', 'there', 'who', 'what', 'where', 'when', 'how', 'not', 'all', 'many', 'some', 'few']\n"
     ]
    }
   ],
   "source": [
    "import nltk\n",
    "\n",
    "# You will need to download 'swadesh' as follows:\n",
    "# nltk.download()\n",
    "# NLTK Downloader\n",
    "# ---------------------------------------------------------------------------\n",
    "#     d) Download   l) List    u) Update   c) Config   h) Help   q) Quit\n",
    "# ---------------------------------------------------------------------------\n",
    "# Downloader> d\n",
    "#\n",
    "# Download which package (l=list; x=cancel)?\n",
    "#   Identifier> swadesh\n",
    "#     Downloading package swadesh to /home/jmccrae/nltk_data...\n",
    "#       Unzipping corpora/swadesh.zip.\n",
    "\n",
    "# The following should now work:\n",
    "from nltk.corpus import swadesh\n",
    "\n",
    "en = swadesh.words('en')\n",
    "\n",
    "print(en[0:20])"
   ]
  },
  {
   "cell_type": "markdown",
   "metadata": {},
   "source": [
    "What is the frequency of the letter (ignoring case) &lsquo;a&rsquo; for German words in Swadesh corpora?"
   ]
  },
  {
   "cell_type": "markdown",
   "metadata": {},
   "source": [
    "# Q2. \n",
    "\n",
    "Based on Italian, English and Spanish words, in which language(s) the letter (ignoring case) &lsquo;o&rsquo; has the highest total frequency?\n",
    "\n",
    "* English\n",
    "* Spanish\n",
    "* Italian"
   ]
  },
  {
   "cell_type": "markdown",
   "metadata": {},
   "source": [
    "# Q3. \n",
    "\n",
    "Calculate probabilities (relative frequency) of all letters for only German words in Swadesh corpora.\n",
    "What is the probability of the letters &lsquo;e&rsquo; and &lsquo;n&rsquo;?"
   ]
  },
  {
   "cell_type": "markdown",
   "metadata": {},
   "source": [
    "# Q4. \n",
    "\n",
    "Based on probabilities of letters in only English and German words in Swadesh corpora, is the word 'finger' English or German? \n",
    "\n",
    "You should implement Naive Bayes classifier using probabilities of each letter:\n",
    "\n",
    "$P(German|finger) \\propto P(f|German) \\times P(i|German) \\times P(n|German) \\times P(g|German) \\times P(e|German) \\times P(r|German) \\times P(German)$ where $P(German) = 0.5$ and $P(English) = 0.5$\n",
    "\n",
    "Write a general purpose Naive Bayes classifier such as follows:"
   ]
  },
  {
   "cell_type": "code",
   "execution_count": 10,
   "metadata": {
    "collapsed": true
   },
   "outputs": [],
   "source": [
    "from random import random\n",
    "\n",
    "def calculate_probability(word, language):\n",
    "    return random() # change this\n",
    "\n",
    "def naive_bayes(word):\n",
    "    en_prob = calculate_probability(word, 'en')\n",
    "    de_prob = calculate_probability(word, 'de')\n",
    "    if en_prob > de_prob:\n",
    "        return 0\n",
    "    else:\n",
    "        return 1"
   ]
  },
  {
   "cell_type": "markdown",
   "metadata": {},
   "source": [
    "# Q5. \n",
    "\n",
    "The following is the Iris dataset often used for classification problems:"
   ]
  },
  {
   "cell_type": "code",
   "execution_count": 5,
   "metadata": {
    "collapsed": false
   },
   "outputs": [
    {
     "data": {
      "text/plain": [
       "<matplotlib.text.Text at 0x7f3d74d344a8>"
      ]
     },
     "execution_count": 5,
     "metadata": {},
     "output_type": "execute_result"
    },
    {
     "data": {
      "image/png": "[encoded data removed]",
      "text/plain": [
       "<matplotlib.figure.Figure at 0x7f3d54fb56d8>"
      ]
     },
     "metadata": {},
     "output_type": "display_data"
    }
   ],
   "source": [
    "from sklearn import svm, datasets\n",
    "import matplotlib.pyplot as plt\n",
    "\n",
    "iris = datasets.load_iris()\n",
    "\n",
    "X = iris.data\n",
    "y = iris.target\n",
    "\n",
    "plt.scatter(X[:, 0], X[:, 1], c=y, cmap=plt.cm.Paired)\n",
    "plt.xlabel('Sepal length')\n",
    "plt.ylabel('Sepal width')"
   ]
  },
  {
   "cell_type": "markdown",
   "metadata": {},
   "source": [
    "A support vector machine may be trained on it as follows:"
   ]
  },
  {
   "cell_type": "code",
   "execution_count": 8,
   "metadata": {
    "collapsed": false
   },
   "outputs": [
    {
     "data": {
      "text/plain": [
       "array([2])"
      ]
     },
     "execution_count": 8,
     "metadata": {},
     "output_type": "execute_result"
    }
   ],
   "source": [
    "svc = svm.SVC()\n",
    "svc.fit(X, y)\n",
    "\n",
    "svc.predict([[3,6,1,2]])"
   ]
  },
  {
   "cell_type": "markdown",
   "metadata": {},
   "source": [
    "Build an SVM classifier that can predict if a word is in English or German based on the frequency of the 26 lowercase letters."
   ]
  },
  {
   "cell_type": "markdown",
   "metadata": {
    "collapsed": true
   },
   "source": [
    "# Q6. \n",
    "\n",
    "Compare the overall accuracy of the two methods using the Swadesh lists as the evaluation.\n",
    "\n",
    "Why is this not a good way to evaluate these methodologies?"
   ]
  }
 ],
 "metadata": {
  "kernelspec": {
   "display_name": "Python 3",
   "language": "python",
   "name": "python3"
  },
  "language_info": {
   "codemirror_mode": {
    "name": "ipython",
    "version": 3
   },
   "file_extension": ".py",
   "mimetype": "text/x-python",
   "name": "python",
   "nbconvert_exporter": "python",
   "pygments_lexer": "ipython3",
   "version": "3.5.1"
  }
 },
 "nbformat": 4,
 "nbformat_minor": 0
}
